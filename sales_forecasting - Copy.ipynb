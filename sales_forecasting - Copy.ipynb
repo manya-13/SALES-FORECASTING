{
 "cells": [
  {
   "cell_type": "code",
   "execution_count": 1,
   "id": "8f050f3a",
   "metadata": {},
   "outputs": [],
   "source": [
    "import pandas as pd\n",
    "import numpy as np\n",
    "\n",
    "import matplotlib.pyplot as plt\n",
    "from matplotlib.dates import DateFormatter\n",
    "import seaborn as sns\n",
    "\n",
    "from sklearn.preprocessing import MinMaxScaler\n",
    "from sklearn.linear_model import LinearRegression\n",
    "from sklearn.metrics import mean_squared_error, mean_absolute_error, r2_score\n",
    "from sklearn.ensemble import RandomForestRegressor\n",
    "from xgboost.sklearn import XGBRegressor\n",
    "\n",
    "import keras\n",
    "from keras.layers import Dense\n",
    "from keras.models import Sequential\n",
    "from keras.optimizers import Adam \n",
    "from keras.callbacks import EarlyStopping\n",
    "from keras.utils import np_utils\n",
    "from keras.layers import LSTM\n",
    "from sklearn.model_selection import KFold, cross_val_score, train_test_split\n",
    "\n",
    "import pickle"
   ]
  },
  {
   "cell_type": "code",
   "execution_count": 2,
   "id": "e4949441",
   "metadata": {},
   "outputs": [],
   "source": [
    "model_df = pd.read_csv('./csvfiles/model_df.csv')"
   ]
  },
  {
   "cell_type": "code",
   "execution_count": 3,
   "id": "22590445",
   "metadata": {},
   "outputs": [],
   "source": [
    "def tts(data):\n",
    "    data = data.drop(['sales','date'],axis=1)\n",
    "    train, test = data[0:-12].values, data[-12:].values\n",
    "    \n",
    "    return train, test\n",
    "\n",
    "train, test = tts(model_df)"
   ]
  },
  {
   "cell_type": "code",
   "execution_count": 4,
   "id": "b51eb9d2",
   "metadata": {},
   "outputs": [
    {
     "data": {
      "text/plain": [
       "(35, 13)"
      ]
     },
     "execution_count": 4,
     "metadata": {},
     "output_type": "execute_result"
    }
   ],
   "source": [
    "train.shape"
   ]
  },
  {
   "cell_type": "code",
   "execution_count": 5,
   "id": "1128283b",
   "metadata": {},
   "outputs": [
    {
     "data": {
      "text/plain": [
       "array([[   3130.,   19380., -186036.,   36056.,  -33320.,  -76854.,\n",
       "         -89161.,   60325.,   32355.,   80968.,   64892.,  157965.,\n",
       "           4513.],\n",
       "       [ 175184.,    3130.,   19380., -186036.,   36056.,  -33320.,\n",
       "         -76854.,  -89161.,   60325.,   32355.,   80968.,   64892.,\n",
       "         157965.],\n",
       "       [  84613.,  175184.,    3130.,   19380., -186036.,   36056.,\n",
       "         -33320.,  -76854.,  -89161.,   60325.,   32355.,   80968.,\n",
       "          64892.],\n",
       "       [  93963.,   84613.,  175184.,    3130.,   19380., -186036.,\n",
       "          36056.,  -33320.,  -76854.,  -89161.,   60325.,   32355.,\n",
       "          80968.],\n",
       "       [  23965.,   93963.,   84613.,  175184.,    3130.,   19380.,\n",
       "        -186036.,   36056.,  -33320.,  -76854.,  -89161.,   60325.,\n",
       "          32355.],\n",
       "       [  82168.,   23965.,   93963.,   84613.,  175184.,    3130.,\n",
       "          19380., -186036.,   36056.,  -33320.,  -76854.,  -89161.,\n",
       "          60325.],\n",
       "       [-103414.,   82168.,   23965.,   93963.,   84613.,  175184.,\n",
       "           3130.,   19380., -186036.,   36056.,  -33320.,  -76854.,\n",
       "         -89161.],\n",
       "       [-100472., -103414.,   82168.,   23965.,   93963.,   84613.,\n",
       "         175184.,    3130.,   19380., -186036.,   36056.,  -33320.,\n",
       "         -76854.],\n",
       "       [ -26241., -100472., -103414.,   82168.,   23965.,   93963.,\n",
       "          84613.,  175184.,    3130.,   19380., -186036.,   36056.,\n",
       "         -33320.],\n",
       "       [  41900.,  -26241., -100472., -103414.,   82168.,   23965.,\n",
       "          93963.,   84613.,  175184.,    3130.,   19380., -186036.,\n",
       "          36056.],\n",
       "       [-222735.,   41900.,  -26241., -100472., -103414.,   82168.,\n",
       "          23965.,   93963.,   84613.,  175184.,    3130.,   19380.,\n",
       "        -186036.],\n",
       "       [ -25535., -222735.,   41900.,  -26241., -100472., -103414.,\n",
       "          82168.,   23965.,   93963.,   84613.,  175184.,    3130.,\n",
       "          19380.],\n",
       "       [  -1196.,  -25535., -222735.,   41900.,  -26241., -100472.,\n",
       "        -103414.,   82168.,   23965.,   93963.,   84613.,  175184.,\n",
       "           3130.],\n",
       "       [ 179634.,   -1196.,  -25535., -222735.,   41900.,  -26241.,\n",
       "        -100472., -103414.,   82168.,   23965.,   93963.,   84613.,\n",
       "         175184.],\n",
       "       [  93516.,  179634.,   -1196.,  -25535., -222735.,   41900.,\n",
       "         -26241., -100472., -103414.,   82168.,   23965.,   93963.,\n",
       "          84613.],\n",
       "       [ 102435.,   93516.,  179634.,   -1196.,  -25535., -222735.,\n",
       "          41900.,  -26241., -100472., -103414.,   82168.,   23965.,\n",
       "          93963.],\n",
       "       [  10282.,  102435.,   93516.,  179634.,   -1196.,  -25535.,\n",
       "        -222735.,   41900.,  -26241., -100472., -103414.,   82168.,\n",
       "          23965.],\n",
       "       [ 100166.,   10282.,  102435.,   93516.,  179634.,   -1196.,\n",
       "         -25535., -222735.,   41900.,  -26241., -100472., -103414.,\n",
       "          82168.],\n",
       "       [-116949.,  100166.,   10282.,  102435.,   93516.,  179634.,\n",
       "          -1196.,  -25535., -222735.,   41900.,  -26241., -100472.,\n",
       "        -103414.],\n",
       "       [ -97069., -116949.,  100166.,   10282.,  102435.,   93516.,\n",
       "         179634.,   -1196.,  -25535., -222735.,   41900.,  -26241.,\n",
       "        -100472.],\n",
       "       [ -26079.,  -97069., -116949.,  100166.,   10282.,  102435.,\n",
       "          93516.,  179634.,   -1196.,  -25535., -222735.,   41900.,\n",
       "         -26241.],\n",
       "       [  30392.,  -26079.,  -97069., -116949.,  100166.,   10282.,\n",
       "         102435.,   93516.,  179634.,   -1196.,  -25535., -222735.,\n",
       "          41900.],\n",
       "       [-220073.,   30392.,  -26079.,  -97069., -116949.,  100166.,\n",
       "          10282.,  102435.,   93516.,  179634.,   -1196.,  -25535.,\n",
       "        -222735.],\n",
       "       [  -5133., -220073.,   30392.,  -26079.,  -97069., -116949.,\n",
       "         100166.,   10282.,  102435.,   93516.,  179634.,   -1196.,\n",
       "         -25535.],\n",
       "       [  12518.,   -5133., -220073.,   30392.,  -26079.,  -97069.,\n",
       "        -116949.,  100166.,   10282.,  102435.,   93516.,  179634.,\n",
       "          -1196.],\n",
       "       [ 175924.,   12518.,   -5133., -220073.,   30392.,  -26079.,\n",
       "         -97069., -116949.,  100166.,   10282.,  102435.,   93516.,\n",
       "         179634.],\n",
       "       [ 111069.,  175924.,   12518.,   -5133., -220073.,   30392.,\n",
       "         -26079.,  -97069., -116949.,  100166.,   10282.,  102435.,\n",
       "          93516.],\n",
       "       [  86780.,  111069.,  175924.,   12518.,   -5133., -220073.,\n",
       "          30392.,  -26079.,  -97069., -116949.,  100166.,   10282.,\n",
       "         102435.],\n",
       "       [  33934.,   86780.,  111069.,  175924.,   12518.,   -5133.,\n",
       "        -220073.,   30392.,  -26079.,  -97069., -116949.,  100166.,\n",
       "          10282.],\n",
       "       [ 116054.,   33934.,   86780.,  111069.,  175924.,   12518.,\n",
       "          -5133., -220073.,   30392.,  -26079.,  -97069., -116949.,\n",
       "         100166.],\n",
       "       [-157224.,  116054.,   33934.,   86780.,  111069.,  175924.,\n",
       "          12518.,   -5133., -220073.,   30392.,  -26079.,  -97069.,\n",
       "        -116949.],\n",
       "       [ -84663., -157224.,  116054.,   33934.,   86780.,  111069.,\n",
       "         175924.,   12518.,   -5133., -220073.,   30392.,  -26079.,\n",
       "         -97069.],\n",
       "       [ -33194.,  -84663., -157224.,  116054.,   33934.,   86780.,\n",
       "         111069.,  175924.,   12518.,   -5133., -220073.,   30392.,\n",
       "         -26079.],\n",
       "       [  27811.,  -33194.,  -84663., -157224.,  116054.,   33934.,\n",
       "          86780.,  111069.,  175924.,   12518.,   -5133., -220073.,\n",
       "          30392.],\n",
       "       [-228037.,   27811.,  -33194.,  -84663., -157224.,  116054.,\n",
       "          33934.,   86780.,  111069.,  175924.,   12518.,   -5133.,\n",
       "        -220073.]])"
      ]
     },
     "execution_count": 5,
     "metadata": {},
     "output_type": "execute_result"
    }
   ],
   "source": [
    "train"
   ]
  },
  {
   "cell_type": "code",
   "execution_count": 6,
   "id": "4336bc23",
   "metadata": {},
   "outputs": [
    {
     "data": {
      "text/plain": [
       "(12, 13)"
      ]
     },
     "execution_count": 6,
     "metadata": {},
     "output_type": "execute_result"
    }
   ],
   "source": [
    "test.shape"
   ]
  },
  {
   "cell_type": "code",
   "execution_count": 7,
   "id": "bd20232c",
   "metadata": {},
   "outputs": [],
   "source": [
    "def scale_data(train_set, test_set):\n",
    "    #apply Min Max Scaler\n",
    "    scaler = MinMaxScaler(feature_range=(-1, 1))\n",
    "    scaler = scaler.fit(train_set)\n",
    "    \n",
    "    # reshape training set\n",
    "    train_set = train_set.reshape(train_set.shape[0], train_set.shape[1])\n",
    "    train_set_scaled = scaler.transform(train_set)\n",
    "    \n",
    "    # reshape test set\n",
    "    test_set = test_set.reshape(test_set.shape[0], test_set.shape[1])\n",
    "    test_set_scaled = scaler.transform(test_set)\n",
    "    \n",
    "    X_train, y_train = train_set_scaled[:, 1:], train_set_scaled[:, 0:1].ravel()\n",
    "    X_test, y_test = test_set_scaled[:, 1:], test_set_scaled[:, 0:1].ravel()\n",
    "    \n",
    "    return X_train, y_train, X_test, y_test, scaler\n",
    "\n",
    "X_train, y_train, X_test, y_test, scaler_object = scale_data(train, test)"
   ]
  },
  {
   "cell_type": "code",
   "execution_count": 8,
   "id": "96b38da4",
   "metadata": {},
   "outputs": [
    {
     "data": {
      "text/plain": [
       "(35,)"
      ]
     },
     "execution_count": 8,
     "metadata": {},
     "output_type": "execute_result"
    }
   ],
   "source": [
    "y_train.shape"
   ]
  },
  {
   "cell_type": "code",
   "execution_count": 9,
   "id": "05f3bd3c",
   "metadata": {},
   "outputs": [],
   "source": [
    "def undo_scaling(y_pred, x_test, scaler_obj, lstm=False):  \n",
    "    #reshape y_pred\n",
    "    y_pred = y_pred.reshape(y_pred.shape[0], 1, 1)\n",
    "    \n",
    "    if not lstm:\n",
    "        x_test = x_test.reshape(x_test.shape[0], 1, x_test.shape[1])\n",
    "    \n",
    "    #rebuild test set for inverse transform\n",
    "    pred_test_set = []\n",
    "    for index in range(0,len(y_pred)):\n",
    "        pred_test_set.append(np.concatenate([y_pred[index],x_test[index]],axis=1))\n",
    "        \n",
    "    #reshape pred_test_set\n",
    "    pred_test_set = np.array(pred_test_set)\n",
    "    pred_test_set = pred_test_set.reshape(pred_test_set.shape[0], pred_test_set.shape[2])\n",
    "    \n",
    "    #inverse transform\n",
    "    pred_test_set_inverted = scaler_obj.inverse_transform(pred_test_set)\n",
    "    \n",
    "    return pred_test_set_inverted"
   ]
  },
  {
   "cell_type": "code",
   "execution_count": 10,
   "id": "59eb9542",
   "metadata": {},
   "outputs": [],
   "source": [
    "def load_original_df():\n",
    "    #load in original dataframe without scaling applied\n",
    "    original_df = pd.read_csv('./csvfiles/train.csv')\n",
    "    original_df.date = original_df.date.apply(lambda x: str(x)[:-3])\n",
    "    original_df = original_df.groupby('date')['sales'].sum().reset_index()\n",
    "    original_df.date = pd.to_datetime(original_df.date)\n",
    "    return original_df"
   ]
  },
  {
   "cell_type": "code",
   "execution_count": 11,
   "id": "6d9b255c",
   "metadata": {},
   "outputs": [],
   "source": [
    "def predict_df(unscaled_predictions, original_df):\n",
    "    #create dataframe that shows the predicted sales\n",
    "    result_list = []\n",
    "    sales_dates = list(original_df[-13:].date)\n",
    "    act_sales = list(original_df[-13:].sales)\n",
    "    \n",
    "    for index in range(0,len(unscaled_predictions)):\n",
    "        result_dict = {}\n",
    "        result_dict['pred_value'] = int(unscaled_predictions[index][0] + act_sales[index])\n",
    "        result_dict['date'] = sales_dates[index+1]\n",
    "        result_list.append(result_dict)\n",
    "        \n",
    "    df_result = pd.DataFrame(result_list)\n",
    "    \n",
    "    return df_result"
   ]
  },
  {
   "cell_type": "code",
   "execution_count": 12,
   "id": "0d700d01",
   "metadata": {},
   "outputs": [],
   "source": [
    "model_scores = {}\n",
    "\n",
    "def get_scores(unscaled_df, original_df, model_name):\n",
    "    rmse = np.sqrt(mean_squared_error(original_df.sales[-12:], unscaled_df.pred_value[-12:]))\n",
    "    mae = mean_absolute_error(original_df.sales[-12:], unscaled_df.pred_value[-12:])\n",
    "    r2 = r2_score(original_df.sales[-12:], unscaled_df.pred_value[-12:])\n",
    "    model_scores[model_name] = [rmse, mae, r2]\n",
    "\n",
    "    print(f\"RMSE: {rmse}\")\n",
    "    print(f\"MAE: {mae}\")\n",
    "    print(f\"R2 Score: {r2}\")"
   ]
  },
  {
   "cell_type": "code",
   "execution_count": 13,
   "id": "198ff8be",
   "metadata": {},
   "outputs": [],
   "source": [
    "def plot_results(results, original_df, model_name,date_format):\n",
    "\n",
    "    fig, ax = plt.subplots(figsize=(15,5))\n",
    "    if(date_format == 'Daily'):\n",
    "        date_form = DateFormatter(\"%d/%m/%Y\")\n",
    "    elif(date_format == 'Monthly'):\n",
    "        date_form = DateFormatter(\"%m/%Y\")\n",
    "    elif(date_format == 'Yearly'):\n",
    "        date_form = DateFormatter(\"%Y\")\n",
    "    ax.xaxis.set_major_formatter(date_form)\n",
    "    sns.lineplot(original_df.date, original_df.sales, data=original_df, ax=ax, \n",
    "                 label='Actual', color='mediumblue')\n",
    "    sns.lineplot(results.date, results.pred_value, data=results, ax=ax, \n",
    "                 label='Predicted', color='Red')\n",
    "    submission = pd.DataFrame({\"Actual_Date\":original_df.date,\"Actual\": original_df['sales'],\"Predicted_Date\":results.date ,\"Predicted\": results.pred_value})\n",
    "    submission.to_csv(\"salesPred.csv\", index=False)\n",
    "    ax.set(xlabel = \"Date\",\n",
    "           ylabel = \"Sales\",\n",
    "           title = f\"{model_name} Sales Forecasting Prediction\")\n",
    "    \n",
    "    ax.legend()\n",
    "    \n",
    "    sns.despine()\n",
    "    \n",
    "    plt.savefig(f'./csvfiles/{model_name}_forecast.png')"
   ]
  },
  {
   "cell_type": "code",
   "execution_count": 14,
   "id": "a48762f9",
   "metadata": {},
   "outputs": [],
   "source": [
    "def run_model(train_data, test_data, model, model_name):\n",
    "    \n",
    "    X_train, y_train, X_test, y_test, scaler_object = scale_data(train_data, test_data)\n",
    "    \n",
    "    mod = model\n",
    "    mod.fit(X_train, y_train)\n",
    "    predictions = mod.predict(X_test)\n",
    "    \n",
    "    # Undo scaling to compare predictions against original data\n",
    "    original_df = load_original_df()\n",
    "    unscaled = undo_scaling(predictions, X_test, scaler_object)\n",
    "    unscaled_df = predict_df(unscaled, original_df)\n",
    "    date_format = \"Daily\"\n",
    "    get_scores(unscaled_df, original_df, model_name)\n",
    "    plot_results(unscaled_df, original_df, model_name,date_format)\n",
    "    return mod"
   ]
  },
  {
   "cell_type": "code",
   "execution_count": 15,
   "id": "4d641369",
   "metadata": {},
   "outputs": [
    {
     "name": "stdout",
     "output_type": "stream",
     "text": [
      "RMSE: 18043.02816648765\n",
      "MAE: 15434.25\n",
      "R2 Score: 0.9885127565032201\n"
     ]
    },
    {
     "name": "stderr",
     "output_type": "stream",
     "text": [
      "c:\\users\\manya\\appdata\\local\\programs\\python\\python37\\lib\\site-packages\\seaborn\\_decorators.py:43: FutureWarning: Pass the following variables as keyword args: x, y. From version 0.12, the only valid positional argument will be `data`, and passing other arguments without an explicit keyword will result in an error or misinterpretation.\n",
      "  FutureWarning\n",
      "c:\\users\\manya\\appdata\\local\\programs\\python\\python37\\lib\\site-packages\\seaborn\\_decorators.py:43: FutureWarning: Pass the following variables as keyword args: x, y. From version 0.12, the only valid positional argument will be `data`, and passing other arguments without an explicit keyword will result in an error or misinterpretation.\n",
      "  FutureWarning\n"
     ]
    },
    {
     "data": {
      "text/plain": [
       "RandomForestRegressor(max_depth=20)"
      ]
     },
     "execution_count": 15,
     "metadata": {},
     "output_type": "execute_result"
    },
    {
     "data": {
      "image/png": "[encoded data removed]",
      "text/plain": [
       "<Figure size 1080x360 with 1 Axes>"
      ]
     },
     "metadata": {
      "needs_background": "light"
     },
     "output_type": "display_data"
    }
   ],
   "source": [
    "run_model(train, test, RandomForestRegressor(n_estimators=100, max_depth=20), 'RandomForest')"
   ]
  },
  {
   "cell_type": "code",
   "execution_count": 19,
   "id": "b10fd807",
   "metadata": {},
   "outputs": [],
   "source": [
    "pickle.dump(model_scores, open( \"rfg.pkl\", \"wb\" ) )"
   ]
  },
  {
   "cell_type": "code",
   "execution_count": 21,
   "id": "8d16273c",
   "metadata": {},
   "outputs": [
    {
     "name": "stdout",
     "output_type": "stream",
     "text": [
      "{'RandomForest': [18043.02816648765, 15434.25, 0.9885127565032201]}\n"
     ]
    }
   ],
   "source": [
    "print(model_scores)"
   ]
  },
  {
   "cell_type": "code",
   "execution_count": null,
   "id": "4cca8a31",
   "metadata": {},
   "outputs": [],
   "source": []
  }
 ],
 "metadata": {
  "kernelspec": {
   "display_name": "Python 3 (ipykernel)",
   "language": "python",
   "name": "python3"
  },
  "language_info": {
   "codemirror_mode": {
    "name": "ipython",
    "version": 3
   },
   "file_extension": ".py",
   "mimetype": "text/x-python",
   "name": "python",
   "nbconvert_exporter": "python",
   "pygments_lexer": "ipython3",
   "version": "3.7.4"
  },
  "vscode": {
   "interpreter": {
    "hash": "b6c0b7dfd24faa4511bf496871550bc58ee7c08ad576447dc1f32bbf63b43657"
   }
  }
 },
 "nbformat": 4,
 "nbformat_minor": 5
}
